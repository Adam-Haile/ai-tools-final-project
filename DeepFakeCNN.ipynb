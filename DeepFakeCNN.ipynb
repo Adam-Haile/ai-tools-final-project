{
 "cells": [
  {
   "cell_type": "markdown",
   "metadata": {},
   "source": [
    "# Final Project \n",
    "\n",
    "**Title**: Deep Fake Detection\n",
    "\n",
    "**Contributors**: Adam Haile, Alhagie Boye, Rudolph Evonich\n",
    "\n",
    "**Onjective**: To develop a robust CNN model capable of accurately classifying video frames as real or fake.\n",
    "\n",
    "\n",
    "This is a demo of our CNN model that will be use to classify videos as real or fake.\n"
   ]
  },
  {
   "cell_type": "code",
   "execution_count": 1,
   "metadata": {
    "scrolled": true
   },
   "outputs": [
    {
     "name": "stderr",
     "output_type": "stream",
     "text": [
      "2023-12-06 11:14:16.354690: I tensorflow/core/util/port.cc:113] oneDNN custom operations are on. You may see slightly different numerical results due to floating-point round-off errors from different computation orders. To turn them off, set the environment variable `TF_ENABLE_ONEDNN_OPTS=0`.\n",
      "2023-12-06 11:14:16.392902: E external/local_xla/xla/stream_executor/cuda/cuda_dnn.cc:9261] Unable to register cuDNN factory: Attempting to register factory for plugin cuDNN when one has already been registered\n",
      "2023-12-06 11:14:16.392932: E external/local_xla/xla/stream_executor/cuda/cuda_fft.cc:607] Unable to register cuFFT factory: Attempting to register factory for plugin cuFFT when one has already been registered\n",
      "2023-12-06 11:14:16.394007: E external/local_xla/xla/stream_executor/cuda/cuda_blas.cc:1515] Unable to register cuBLAS factory: Attempting to register factory for plugin cuBLAS when one has already been registered\n",
      "2023-12-06 11:14:16.400148: I tensorflow/core/platform/cpu_feature_guard.cc:182] This TensorFlow binary is optimized to use available CPU instructions in performance-critical operations.\n",
      "To enable the following instructions: AVX2 AVX512F AVX512_VNNI FMA, in other operations, rebuild TensorFlow with the appropriate compiler flags.\n"
     ]
    }
   ],
   "source": [
    "import os\n",
    "import cv2\n",
    "import json\n",
    "import glob\n",
    "import time\n",
    "import random\n",
    "import numpy as np\n",
    "from tqdm import tqdm\n",
    "import tensorflow as tf\n",
    "from keras import backend as K\n",
    "import matplotlib.pyplot as plt\n",
    "import tensorflow.keras as keras\n",
    "from sklearn.utils import shuffle\n",
    "from video_utils import load_data\n",
    "from tensorflow.keras.preprocessing.image import ImageDataGenerator\n",
    "from tensorflow.keras.layers import Conv2D, MaxPooling2D, Dense, Flatten, Dropout"
   ]
  },
  {
   "cell_type": "code",
   "execution_count": 2,
   "metadata": {},
   "outputs": [],
   "source": [
    "K.clear_session()"
   ]
  },
  {
   "cell_type": "markdown",
   "metadata": {},
   "source": [
    "# Data Loading & Data Preprocessing\n",
    "The following cells handles the loading of video data and associated metadata and data preprocessing. The dataset is the [Deepfake Challenge Dataset](https://www.kaggle.com/c/deepfake-detection-challenge) from META\n",
    "\n",
    "Video files and their corresponding metadata are retrieved from a designated directory (train_sample_videos/) and a JSON file (metadata.json).\n",
    "\n",
    "A custom video utilities module is utilized to extract frame from each video for further processing.\n",
    "\n",
    "The orientation of the frames is checked, and those with vertical orientation are rotated to ensure consistency. Frames are also scaled from 1920x1080 to 640x360.\n",
    "\n",
    "Based on the metadata information, binary labels are assigned to each frame: 1 for \"FAKE\" videos and 0 for \"REAL\" videos."
   ]
  },
  {
   "cell_type": "code",
   "execution_count": 3,
   "metadata": {},
   "outputs": [],
   "source": [
    "parent = os.path.dirname(os.getcwd())\n",
    "videos = glob.glob(parent + \"/train_sample_videos/*.mp4\")\n",
    "f = open(parent + \"/train_sample_videos/metadata.json\")\n",
    "valid = json.load(f)"
   ]
  },
  {
   "cell_type": "code",
   "execution_count": 4,
   "metadata": {},
   "outputs": [
    {
     "name": "stdout",
     "output_type": "stream",
     "text": [
      "Processing train videos...\n",
      "Oversampled training videos. Original size: 280, New size: 439\n"
     ]
    },
    {
     "name": "stderr",
     "output_type": "stream",
     "text": [
      "100%|██████████| 439/439 [03:55<00:00,  1.86it/s]\n"
     ]
    },
    {
     "name": "stdout",
     "output_type": "stream",
     "text": [
      "Processing test videos...\n",
      "Oversampled testing videos. Original size: 80, New size: 128\n"
     ]
    },
    {
     "name": "stderr",
     "output_type": "stream",
     "text": [
      "100%|██████████| 128/128 [01:07<00:00,  1.88it/s]\n"
     ]
    },
    {
     "name": "stdout",
     "output_type": "stream",
     "text": [
      "Processing validation videos...\n",
      "Oversampled testing videos. Original size: 40, New size: 52\n"
     ]
    },
    {
     "name": "stderr",
     "output_type": "stream",
     "text": [
      "100%|██████████| 52/52 [00:28<00:00,  1.80it/s]\n"
     ]
    }
   ],
   "source": [
    "train_X, test_X, val_X, train_y, test_y, val_y = load_data(videos, valid, verbose=True)\n",
    "train_X, train_y = shuffle(train_X, train_y, random_state=2)"
   ]
  },
  {
   "cell_type": "code",
   "execution_count": 5,
   "metadata": {},
   "outputs": [
    {
     "name": "stdout",
     "output_type": "stream",
     "text": [
      "(13170, 360, 640, 3)\n",
      "(13170, 2)\n",
      "(3840, 360, 640, 3)\n",
      "(3840, 2)\n",
      "(1560, 360, 640, 3)\n",
      "(1560, 2)\n"
     ]
    }
   ],
   "source": [
    "print(train_X.shape)\n",
    "print(train_y.shape)\n",
    "print(test_X.shape)\n",
    "print(test_y.shape)\n",
    "print(val_X.shape)\n",
    "print(val_y.shape)"
   ]
  },
  {
   "cell_type": "markdown",
   "metadata": {},
   "source": [
    "# Model Creation and Training\n",
    "This cell creates the CNN model to be trained.\n",
    "\n",
    "The model consists of the following architecture:\n",
    "- Conv2D – 32 filters, (3x3) kernel, ReLU activation, input shape of (640, 360, 3)\n",
    "- MaxPool2D – (2x2) Pool size\n",
    "- Dropout – 20% dropout\n",
    "- Conv2D – 64 filters, (3x3) kernel, ReLU activation\n",
    "- MaxPool2D – (2x2) Pool size\n",
    "- Dropout – 20% dropout\n",
    "- Flatten – Convert 3D matrix to 1D vector\n",
    "- Dense – 16 neurons, ReLU activation\n",
    "- Output Dense – 2 neurons, Softmax activation\n",
    "\n",
    "\n",
    "The dataset is split into training, testing, and validation sets to assess the model's performance during training.\n",
    "\n",
    "The model is trained on the training set for a specified number of epochs 10 epochs at a batch size of 16.\n",
    "\n",
    "The training and validation accuracy are visualized over epochs using matplotlib to track the model's learning progress.\n"
   ]
  },
  {
   "cell_type": "code",
   "execution_count": 7,
   "metadata": {},
   "outputs": [],
   "source": [
    "def create_model():\n",
    "    model = tf.keras.models.Sequential()\n",
    "    model.add(Conv2D(32, kernel_size=(3, 3), activation='relu', input_shape=input_shape))\n",
    "    model.add(MaxPooling2D(pool_size=(2, 2)))\n",
    "    model.add(Dropout(0.2))\n",
    "    model.add(Conv2D(64, kernel_size=(3, 3), activation='relu'))\n",
    "    model.add(MaxPooling2D(pool_size=(2, 2)))\n",
    "    model.add(Dropout(0.2))\n",
    "    model.add(Flatten())\n",
    "    model.add(Dense(16, activation='relu'))\n",
    "    model.add(Dense(2, activation='softmax'))\n",
    "    model.compile(loss='categorical_crossentropy', optimizer='adam', metrics=['accuracy'])\n",
    "    return model"
   ]
  },
  {
   "cell_type": "code",
   "execution_count": 8,
   "metadata": {
    "scrolled": true
   },
   "outputs": [],
   "source": [
    "batch_size = 16\n",
    "epochs = 10\n",
    "input_shape = (640, 360, 3)"
   ]
  },
  {
   "cell_type": "code",
   "execution_count": 9,
   "metadata": {},
   "outputs": [
    {
     "name": "stderr",
     "output_type": "stream",
     "text": [
      "2023-12-06 11:20:16.230137: I tensorflow/core/common_runtime/gpu/gpu_device.cc:1929] Created device /job:localhost/replica:0/task:0/device:GPU:0 with 13811 MB memory:  -> device: 0, name: Tesla T4, pci bus id: 0000:61:00.0, compute capability: 7.5\n"
     ]
    },
    {
     "name": "stdout",
     "output_type": "stream",
     "text": [
      "Model: \"sequential\"\n",
      "_________________________________________________________________\n",
      " Layer (type)                Output Shape              Param #   \n",
      "=================================================================\n",
      " conv2d (Conv2D)             (None, 638, 358, 32)      896       \n",
      "                                                                 \n",
      " max_pooling2d (MaxPooling2  (None, 319, 179, 32)      0         \n",
      " D)                                                              \n",
      "                                                                 \n",
      " dropout (Dropout)           (None, 319, 179, 32)      0         \n",
      "                                                                 \n",
      " conv2d_1 (Conv2D)           (None, 317, 177, 64)      18496     \n",
      "                                                                 \n",
      " max_pooling2d_1 (MaxPoolin  (None, 158, 88, 64)       0         \n",
      " g2D)                                                            \n",
      "                                                                 \n",
      " dropout_1 (Dropout)         (None, 158, 88, 64)       0         \n",
      "                                                                 \n",
      " flatten (Flatten)           (None, 889856)            0         \n",
      "                                                                 \n",
      " dense (Dense)               (None, 16)                14237712  \n",
      "                                                                 \n",
      " dense_1 (Dense)             (None, 2)                 34        \n",
      "                                                                 \n",
      "=================================================================\n",
      "Total params: 14257138 (54.39 MB)\n",
      "Trainable params: 14257138 (54.39 MB)\n",
      "Non-trainable params: 0 (0.00 Byte)\n",
      "_________________________________________________________________\n"
     ]
    }
   ],
   "source": [
    "model = create_model()\n",
    "model.summary()"
   ]
  },
  {
   "cell_type": "code",
   "execution_count": 10,
   "metadata": {},
   "outputs": [],
   "source": [
    "datagen = ImageDataGenerator(\n",
    "            samplewise_center=True, \n",
    "            rotation_range=20, \n",
    "            zoom_range = 0.01,\n",
    "            width_shift_range=0.2,\n",
    "            height_shift_range=0.2,\n",
    "            horizontal_flip=True,\n",
    "            vertical_flip=False)\n",
    "\n",
    "train_it = datagen.flow(train_X, train_y, batch_size=batch_size)\n",
    "    \n",
    "valid_it = datagen.flow(test_X, test_y, batch_size=batch_size)"
   ]
  },
  {
   "cell_type": "code",
   "execution_count": 11,
   "metadata": {},
   "outputs": [
    {
     "name": "stdout",
     "output_type": "stream",
     "text": [
      "Epoch 1/10\n"
     ]
    },
    {
     "name": "stderr",
     "output_type": "stream",
     "text": [
      "2023-12-06 11:20:56.463817: E tensorflow/core/grappler/optimizers/meta_optimizer.cc:961] layout failed: INVALID_ARGUMENT: Size of values 0 does not match size of permutation 4 @ fanin shape insequential/dropout/dropout/SelectV2-2-TransposeNHWCToNCHW-LayoutOptimizer\n",
      "2023-12-06 11:20:57.326972: I external/local_xla/xla/stream_executor/cuda/cuda_dnn.cc:454] Loaded cuDNN version 8901\n",
      "2023-12-06 11:20:59.377509: I external/local_xla/xla/service/service.cc:168] XLA service 0x7f539cfd6310 initialized for platform CUDA (this does not guarantee that XLA will be used). Devices:\n",
      "2023-12-06 11:20:59.377545: I external/local_xla/xla/service/service.cc:176]   StreamExecutor device (0): Tesla T4, Compute Capability 7.5\n",
      "2023-12-06 11:20:59.382373: I tensorflow/compiler/mlir/tensorflow/utils/dump_mlir_util.cc:269] disabling MLIR crash reproducer, set env var `MLIR_CRASH_REPRODUCER_DIRECTORY` to enable.\n",
      "WARNING: All log messages before absl::InitializeLog() is called are written to STDERR\n",
      "I0000 00:00:1701879659.486260 2286884 device_compiler.h:186] Compiled cluster using XLA!  This line is logged at most once for the lifetime of the process.\n"
     ]
    },
    {
     "name": "stdout",
     "output_type": "stream",
     "text": [
      "823/823 [==============================] - 651s 785ms/step - loss: 0.6963 - accuracy: 0.6542 - val_loss: 0.8052 - val_accuracy: 0.4568\n",
      "Epoch 2/10\n",
      "823/823 [==============================] - 647s 786ms/step - loss: 0.5628 - accuracy: 0.7118 - val_loss: 0.9499 - val_accuracy: 0.4534\n",
      "Epoch 3/10\n",
      "823/823 [==============================] - 642s 779ms/step - loss: 0.5300 - accuracy: 0.7333 - val_loss: 0.9550 - val_accuracy: 0.4677\n",
      "Epoch 5/10\n",
      "823/823 [==============================] - 643s 781ms/step - loss: 0.5082 - accuracy: 0.7456 - val_loss: 0.9465 - val_accuracy: 0.5023\n",
      "Epoch 6/10\n",
      "823/823 [==============================] - 644s 783ms/step - loss: 0.4987 - accuracy: 0.7501 - val_loss: 0.9560 - val_accuracy: 0.4987\n",
      "Epoch 7/10\n",
      "823/823 [==============================] - 643s 781ms/step - loss: 0.4863 - accuracy: 0.7560 - val_loss: 0.9519 - val_accuracy: 0.5164\n",
      "Epoch 8/10\n",
      "823/823 [==============================] - 648s 788ms/step - loss: 0.4822 - accuracy: 0.7587 - val_loss: 1.0307 - val_accuracy: 0.5057\n",
      "Epoch 9/10\n",
      "823/823 [==============================] - 649s 789ms/step - loss: 0.4772 - accuracy: 0.7617 - val_loss: 0.9238 - val_accuracy: 0.5216\n",
      "Epoch 10/10\n",
      "823/823 [==============================] - 642s 780ms/step - loss: 0.4701 - accuracy: 0.7646 - val_loss: 1.2819 - val_accuracy: 0.4867\n"
     ]
    }
   ],
   "source": [
    "history = model.fit(train_it, steps_per_epoch=len(train_X)//batch_size, epochs=epochs, validation_data=valid_it)"
   ]
  },
  {
   "cell_type": "code",
   "execution_count": 12,
   "metadata": {},
   "outputs": [
    {
     "data": {
      "image/png": "[encoded data removed]",
      "text/plain": [
       "<Figure size 640x480 with 1 Axes>"
      ]
     },
     "metadata": {},
     "output_type": "display_data"
    },
    {
     "data": {
      "text/plain": [
       "<Figure size 640x480 with 0 Axes>"
      ]
     },
     "metadata": {},
     "output_type": "display_data"
    }
   ],
   "source": [
    "plt.plot(history.history['accuracy'], label='Training Accuracy')\n",
    "plt.plot(history.history['val_accuracy'], label='Validation Accuracy')\n",
    "plt.title('Training and Validation Accuracy')\n",
    "plt.xlabel('Epoch')\n",
    "plt.ylabel('Accuracy')\n",
    "plt.legend()\n",
    "plt.show()\n",
    "plt.savefig('./model_b' + str(batch_size) + '_e' + str(epochs) + '.png')"
   ]
  },
  {
   "cell_type": "code",
   "execution_count": null,
   "metadata": {},
   "outputs": [],
   "source": [
    "evaluation = model.evaluate(val_X, val_y)\n",
    "print(f\"Validation Accuracy: {evaluation[1] * 100:.2f}%\")"
   ]
  },
  {
   "cell_type": "code",
   "execution_count": null,
   "metadata": {},
   "outputs": [],
   "source": [
    "model.save('model.h5')"
   ]
  }
 ],
 "metadata": {
  "kernelspec": {
   "display_name": "Python 3 (ipykernel)",
   "language": "python",
   "name": "python3"
  },
  "language_info": {
   "codemirror_mode": {
    "name": "ipython",
    "version": 3
   },
   "file_extension": ".py",
   "mimetype": "text/x-python",
   "name": "python",
   "nbconvert_exporter": "python",
   "pygments_lexer": "ipython3",
   "version": "3.10.6"
  }
 },
 "nbformat": 4,
 "nbformat_minor": 2
}
