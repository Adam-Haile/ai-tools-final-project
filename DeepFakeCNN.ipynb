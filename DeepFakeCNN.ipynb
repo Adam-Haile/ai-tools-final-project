{
 "cells": [
  {
   "cell_type": "markdown",
   "metadata": {},
   "source": [
    "# Final Project"
   ]
  },
  {
   "cell_type": "code",
   "execution_count": 1,
   "metadata": {},
   "outputs": [
    {
     "name": "stderr",
     "output_type": "stream",
     "text": [
      "2023-11-19 02:19:46.392996: I tensorflow/core/util/port.cc:110] oneDNN custom operations are on. You may see slightly different numerical results due to floating-point round-off errors from different computation orders. To turn them off, set the environment variable `TF_ENABLE_ONEDNN_OPTS=0`.\n",
      "2023-11-19 02:19:46.434929: I tensorflow/core/platform/cpu_feature_guard.cc:183] This TensorFlow binary is optimized to use available CPU instructions in performance-critical operations.\n",
      "To enable the following instructions: SSE3 SSE4.1 SSE4.2 AVX, in other operations, rebuild TensorFlow with the appropriate compiler flags.\n"
     ]
    }
   ],
   "source": [
    "import os\n",
    "import json\n",
    "import matplotlib.pyplot as plt\n",
    "import numpy as np\n",
    "import pandas as pd\n",
    "import tensorflow\n",
    "from tqdm import tqdm\n",
    "import tensorflow.keras as keras\n",
    "import frame_extractor as extractor\n",
    "from tensorflow.keras.layers import Dense, Dropout, Flatten, Conv2D, MaxPooling2D\n",
    "from sklearn.model_selection import train_test_split\n",
    "from sklearn.utils import shuffle"
   ]
  },
  {
   "cell_type": "code",
   "execution_count": 2,
   "metadata": {},
   "outputs": [
    {
     "name": "stderr",
     "output_type": "stream",
     "text": [
      "100%|██████████| 401/401 [00:44<00:00,  8.93it/s]\n"
     ]
    }
   ],
   "source": [
    "train_X = []\n",
    "train_Y = []\n",
    "parent = os.path.dirname(os.getcwd())\n",
    "videos = os.listdir(parent + \"/train_sample_videos/\")\n",
    "f = open(parent + \"/train_sample_videos/metadata.json\")\n",
    "valid = json.load(f)\n",
    "for video in tqdm(videos):\n",
    "    if video != \"metadata.json\":\n",
    "        for frame in extractor.run_extraction(parent + \"/train_sample_videos/\" + video):\n",
    "            train_X.append(frame)\n",
    "            break\n",
    "        train_Y.append(1 if valid[video][\"label\"] == \"FAKE\" else 0)"
   ]
  },
  {
   "cell_type": "code",
   "execution_count": 3,
   "metadata": {},
   "outputs": [],
   "source": [
    "def check_orientation(train_X):\n",
    "    h_sum = 0\n",
    "    v_sum = 0\n",
    "    uhoh_sum = 0\n",
    "    for nar in train_X:\n",
    "        if(nar.shape==(1920,1080,3)):\n",
    "            h_sum+=1\n",
    "        elif(nar.shape==(1080,1920,3)):\n",
    "            v_sum+=1\n",
    "        else:\n",
    "            uhoh_sum+=1\n",
    "\n",
    "\n",
    "    print(h_sum)\n",
    "    print(v_sum)\n",
    "    print(uhoh_sum)"
   ]
  },
  {
   "cell_type": "code",
   "execution_count": 4,
   "metadata": {},
   "outputs": [],
   "source": [
    "def rotate_vertical(x):\n",
    "    if x.shape == (1920,1080,3):\n",
    "        return np.rot90(x)\n",
    "    else:\n",
    "        return x"
   ]
  },
  {
   "cell_type": "code",
   "execution_count": 5,
   "metadata": {},
   "outputs": [],
   "source": [
    "rotated_train_X = list(map(rotate_vertical, train_X))"
   ]
  },
  {
   "cell_type": "code",
   "execution_count": 6,
   "metadata": {},
   "outputs": [],
   "source": [
    "train_X = rotated_train_X"
   ]
  },
  {
   "cell_type": "code",
   "execution_count": 7,
   "metadata": {},
   "outputs": [],
   "source": [
    "#Ignore this for now, I don't think we want to filter verticals, \n",
    "#but maybe in the future we'll have to, so this code is nice as a failsafe\n",
    "# def filter_horizontal(x):\n",
    "#     return x.shape==(1080,1920,3)\n",
    "# only_horizontal = list(filter(filter_horizontal, train_X))\n",
    "# check_orientation(only_horizontal)\n"
   ]
  },
  {
   "cell_type": "markdown",
   "metadata": {},
   "source": [
    "# Creating the Model\n",
    "This cell creates the cnn model to be trained. (Currently a basic CNN example model, not our finished model)"
   ]
  },
  {
   "cell_type": "code",
   "execution_count": 9,
   "metadata": {},
   "outputs": [
    {
     "name": "stdout",
     "output_type": "stream",
     "text": [
      "Model: \"sequential_1\"\n",
      "_________________________________________________________________\n",
      " Layer (type)                Output Shape              Param #   \n",
      "=================================================================\n",
      " conv2d_1 (Conv2D)           (None, 1078, 1918, 16)    448       \n",
      "                                                                 \n",
      " max_pooling2d_1 (MaxPooling  (None, 539, 959, 16)     0         \n",
      " 2D)                                                             \n",
      "                                                                 \n",
      " flatten_1 (Flatten)         (None, 8270416)           0         \n",
      "                                                                 \n",
      " dense_2 (Dense)             (None, 16)                132326672 \n",
      "                                                                 \n",
      " dense_3 (Dense)             (None, 2)                 34        \n",
      "                                                                 \n",
      "=================================================================\n",
      "Total params: 132,327,154\n",
      "Trainable params: 132,327,154\n",
      "Non-trainable params: 0\n",
      "_________________________________________________________________\n",
      "Epoch 1/10\n",
      "52/52 [==============================] - 6s 107ms/step - loss: 9069421133824.0000 - accuracy: 0.7422 - val_loss: 0.6111 - val_accuracy: 0.8594\n",
      "Epoch 2/10\n",
      "52/52 [==============================] - 5s 96ms/step - loss: 2.3856 - accuracy: 0.7852 - val_loss: 0.5313 - val_accuracy: 0.8594\n",
      "Epoch 3/10\n",
      "52/52 [==============================] - 5s 87ms/step - loss: 0.5616 - accuracy: 0.7812 - val_loss: 0.4886 - val_accuracy: 0.8594\n",
      "Epoch 4/10\n",
      "52/52 [==============================] - 5s 87ms/step - loss: 0.5430 - accuracy: 0.7812 - val_loss: 0.4693 - val_accuracy: 0.8594\n",
      "Epoch 5/10\n",
      "52/52 [==============================] - 5s 88ms/step - loss: 0.5356 - accuracy: 0.7812 - val_loss: 0.4531 - val_accuracy: 0.8594\n",
      "Epoch 6/10\n",
      "52/52 [==============================] - 5s 87ms/step - loss: 0.5306 - accuracy: 0.7812 - val_loss: 0.4436 - val_accuracy: 0.8594\n",
      "Epoch 7/10\n",
      "52/52 [==============================] - 5s 87ms/step - loss: 0.5282 - accuracy: 0.7812 - val_loss: 0.4375 - val_accuracy: 0.8594\n",
      "Epoch 8/10\n",
      "52/52 [==============================] - 5s 88ms/step - loss: 0.5269 - accuracy: 0.7812 - val_loss: 0.4340 - val_accuracy: 0.8594\n",
      "Epoch 9/10\n",
      "52/52 [==============================] - 5s 88ms/step - loss: 0.5263 - accuracy: 0.7812 - val_loss: 0.4312 - val_accuracy: 0.8594\n",
      "Epoch 10/10\n",
      "52/52 [==============================] - 5s 88ms/step - loss: 0.5259 - accuracy: 0.7812 - val_loss: 0.4292 - val_accuracy: 0.8594\n"
     ]
    },
    {
     "data": {
      "image/png": "[encoded data removed]",
      "text/plain": [
       "<Figure size 640x480 with 1 Axes>"
      ]
     },
     "metadata": {},
     "output_type": "display_data"
    },
    {
     "name": "stdout",
     "output_type": "stream",
     "text": [
      "2/2 [==============================] - 4s 2s/step - loss: 0.4292 - accuracy: 0.8594\n",
      "Validation Accuracy: 85.94%\n"
     ]
    }
   ],
   "source": [
    "cnn_epochs = 10\n",
    "cnn_batch_size = 5\n",
    "train_samples = len(train_X)\n",
    "input_shape =  (1080,1920,3) #TODO: Set input_shape to the shape of our input\n",
    "num_classes = 2\n",
    "\n",
    "steps_per_epoch = train_samples/cnn_batch_size\n",
    "\n",
    "# Split the data \n",
    "train_X, validation_X, train_Y, validation_Y = train_test_split(train_X, train_Y, test_size=0.2, random_state=42)\n",
    "\n",
    "cnn_model = tensorflow.keras.models.Sequential()\n",
    "cnn_model.add(Conv2D(16, kernel_size=(3, 3), activation='relu', input_shape=input_shape))\n",
    "cnn_model.add(MaxPooling2D(pool_size=(2, 2)))\n",
    "cnn_model.add(Flatten())\n",
    "cnn_model.add(Dense(16, activation='relu'))  # Reduce the number of neurons in this layer\n",
    "cnn_model.add(Dense(num_classes, activation='softmax'))\n",
    "cnn_model.compile(loss=\"sparse_categorical_crossentropy\",\n",
    "              optimizer=keras.optimizers.SGD(),\n",
    "              metrics=['accuracy'])                     \n",
    "cnn_model.summary()\n",
    "\n",
    "train_X = np.array(train_X)\n",
    "train_Y = np.array(train_Y)\n",
    "\n",
    "history = cnn_model.fit(train_X, train_Y, epochs=cnn_epochs, batch_size=cnn_batch_size, validation_data=(validation_X, validation_Y))\n",
    "\n",
    "# Plot for the experiment\n",
    "plt.plot(history.history['accuracy'], label='Training Accuracy')\n",
    "plt.plot(history.history['val_accuracy'], label='Validation Accuracy')\n",
    "plt.title('Training and Validation Accuracy')\n",
    "plt.xlabel('Epoch')\n",
    "plt.ylabel('Accuracy')\n",
    "plt.legend()\n",
    "plt.show()\n",
    "\n",
    "evaluation = cnn_model.evaluate(validation_X, validation_Y)\n",
    "print(f\"Validation Accuracy: {evaluation[1] * 100:.2f}%\")"
   ]
  }
 ],
 "metadata": {
  "kernelspec": {
   "display_name": "Python 3 (ipykernel)",
   "language": "python",
   "name": "python3"
  },
  "language_info": {
   "codemirror_mode": {
    "name": "ipython",
    "version": 3
   },
   "file_extension": ".py",
   "mimetype": "text/x-python",
   "name": "python",
   "nbconvert_exporter": "python",
   "pygments_lexer": "ipython3",
   "version": "3.10.6"
  }
 },
 "nbformat": 4,
 "nbformat_minor": 2
}
