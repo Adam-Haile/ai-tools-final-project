{
 "cells": [
  {
   "cell_type": "code",
   "execution_count": 1,
   "id": "ac27e3e8",
   "metadata": {},
   "outputs": [],
   "source": [
    "import os\n",
    "import frame_extractor as extractor"
   ]
  },
  {
   "cell_type": "code",
   "execution_count": 2,
   "id": "cf609efc",
   "metadata": {},
   "outputs": [
    {
     "name": "stdout",
     "output_type": "stream",
     "text": [
      "End of video\n",
      "300 frames extracted\n"
     ]
    }
   ],
   "source": [
    "frames = []\n",
    "parent = os.path.dirname(os.getcwd())\n",
    "videos = parent + \"/train_sample_videos/aagfhgtpmv.mp4\"\n",
    "\n",
    "for frame in extractor.run_extraction(videos):\n",
    "    frames.append(frame)\n",
    "    \n",
    "print(f\"{len(frames)} frames extracted\")"
   ]
  }
 ],
 "metadata": {
  "kernelspec": {
   "display_name": "Python 3 (ipykernel)",
   "language": "python",
   "name": "python3"
  },
  "language_info": {
   "codemirror_mode": {
    "name": "ipython",
    "version": 3
   },
   "file_extension": ".py",
   "mimetype": "text/x-python",
   "name": "python",
   "nbconvert_exporter": "python",
   "pygments_lexer": "ipython3",
   "version": "3.10.6"
  }
 },
 "nbformat": 4,
 "nbformat_minor": 5
}
